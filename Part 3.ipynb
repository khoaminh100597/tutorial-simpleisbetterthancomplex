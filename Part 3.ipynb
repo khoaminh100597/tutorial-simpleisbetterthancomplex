{
 "cells": [
  {
   "cell_type": "markdown",
   "metadata": {},
   "source": [
    "# URLs"
   ]
  },
  {
   "cell_type": "code",
   "execution_count": null,
   "metadata": {
    "collapsed": true
   },
   "outputs": [],
   "source": [
    "from django.contrib import admin\n",
    "from django.urls import path\n",
    "from boards import views\n",
    "\n",
    "urlpatterns = [\n",
    "    path('admin/', admin.site.urls),\n",
    "    path('', views.home, name='home'),\n",
    "    path('boards/<int:pk>/', views.board_topics, name='board_topics'),\n",
    "]"
   ]
  },
  {
   "cell_type": "markdown",
   "metadata": {},
   "source": [
    "URL dispatcher và URLconf là những parts cần thiết cho Django app"
   ]
  },
  {
   "cell_type": "markdown",
   "metadata": {},
   "source": [
    "Note: Một project có `urls.py` đặc biệt gọi là __root URLconf__. (root gốc)\n",
    "\n",
    "Bạn có thể tạo thêm nhiều file urls.py ở các app nhưng root vẫn là `urls.py` nằm trong folder project chính"
   ]
  },
  {
   "cell_type": "code",
   "execution_count": null,
   "metadata": {
    "collapsed": true
   },
   "outputs": [],
   "source": [
    "def path(regex, view, kwargs=None, name=None)"
   ]
  },
  {
   "cell_type": "markdown",
   "metadata": {},
   "source": [
    "__regex__: Một expression thông thường cho các đường dẫn URL dưới dạng string. Nếu ta muốn chèn thêm tham số vào urls thì hãy dùng < int:pk > hoặc < slug:slug >\n",
    "\n",
    "__view__: function view được dùng để xử lý request của user cho một URL được matched. File view này có thể trả về function __django.conf.urls.include__, tham chiếu sang file __urls.py__\n",
    "\n",
    "__kwargs__: Một tham số tùy ý được passed vào file view. Thông thường ko sử dụng\n",
    "\n",
    "__name__: tên gọi cho url, một tính năng quan trọng. Luôn luôn gọi tên cho đường dẫn URLs. Với nó, bạn có thể thay đổi URL đặc trưng trong cả project của bạn chỉ bằng cách change Regex"
   ]
  },
  {
   "cell_type": "markdown",
   "metadata": {
    "collapsed": true
   },
   "source": [
    "# Test path 404"
   ]
  },
  {
   "cell_type": "markdown",
   "metadata": {},
   "source": [
    "Bạn muốn test một đường dẫn xảy lỗi 404\n",
    "\n",
    "- Nhớ sử dụng `ObjectDoesNotExist` trong thư viện `django.core.exceptions`\n",
    "\n",
    "- Nhớ sử dụng raise `Http404` trong package `django.http`"
   ]
  },
  {
   "cell_type": "markdown",
   "metadata": {},
   "source": [
    "Khi ta đang tạo trang web trong điều kiện `DEBUG=False`, visitor sẽ thấy __500 Internal Server Error__\n",
    "\n",
    "Nên hãy trả về __404 error__ trong các functions view"
   ]
  },
  {
   "cell_type": "markdown",
   "metadata": {},
   "source": [
    "Trong file views.py, các functions view dùng trả về response cho một đường dẫn. Ta hãy sử dụng"
   ]
  },
  {
   "cell_type": "code",
   "execution_count": null,
   "metadata": {
    "collapsed": true
   },
   "outputs": [],
   "source": [
    "    try:\n",
    "        board = Board.objects.get(pk=pk)\n",
    "    except ObjectDoesNotExist:\n",
    "        raise Http404"
   ]
  },
  {
   "cell_type": "markdown",
   "metadata": {},
   "source": [
    "Trong file test.py, hãy tạo một bài test cho đường dẫn không tồn tại"
   ]
  },
  {
   "cell_type": "code",
   "execution_count": null,
   "metadata": {
    "collapsed": true
   },
   "outputs": [],
   "source": [
    "    def test_board_topics_view_not_found_status_code(self):\n",
    "        url = reverse('board_topics', kwargs={'pk': 100})\n",
    "        response = self.client.get(url)\n",
    "        self.assertEquals(response.status_code, 404)\n"
   ]
  },
  {
   "cell_type": "markdown",
   "metadata": {},
   "source": [
    "# List of Useful URL Patterns"
   ]
  },
  {
   "cell_type": "markdown",
   "metadata": {},
   "source": [
    "Trick part is the regex"
   ]
  },
  {
   "cell_type": "markdown",
   "metadata": {},
   "source": [
    "__Primary Key AutoField__\n",
    "\n",
    "Regex: `<int:pk>`\n",
    "\n",
    "Example: `path(\"questions/<int:pk>\", views.question, name='question')`"
   ]
  },
  {
   "cell_type": "markdown",
   "metadata": {},
   "source": [
    "__Slug Field__\n",
    "\n",
    "Regex: `<slug:slug>`\n",
    "\n",
    "Example: `path(\"posts/<slug:slug>/\", views.post, name='post')`"
   ]
  },
  {
   "cell_type": "markdown",
   "metadata": {},
   "source": [
    "__Slug Field with Primary Key__\n",
    "\n",
    "Regex: `<slug:slug>-<int:pk>`\n",
    "\n",
    "Example: `path(\"posts/<slug:slug>-<int:pk>/\")`"
   ]
  },
  {
   "cell_type": "markdown",
   "metadata": {},
   "source": [
    "__Django User Username__\n",
    "\n",
    "Regex: `username`\n",
    "\n",
    "Example: `path(\"<username>/blog/\")`"
   ]
  },
  {
   "cell_type": "markdown",
   "metadata": {},
   "source": [
    "__Year__\n",
    "\n",
    "Regex: `<int:year>`\n",
    "\n",
    "Example: `path('articles/<int:year>/', views.year_archive),`"
   ]
  },
  {
   "cell_type": "markdown",
   "metadata": {},
   "source": [
    "`Year / Month`\n",
    "\n",
    "Regex: `<int:year>/<int:month>)\n",
    "`\n",
    "\n",
    "Example: `path('articles/<int:year>/<int:month>/', views.month_archive)`"
   ]
  },
  {
   "cell_type": "markdown",
   "metadata": {},
   "source": [
    "# Reusable templates"
   ]
  },
  {
   "cell_type": "markdown",
   "metadata": {},
   "source": [
    "Refactor HTML templates, creating a __master page__ ( tạo một trang nền ). Và sử dụng reusable templates"
   ]
  },
  {
   "cell_type": "markdown",
   "metadata": {},
   "source": [
    "- Ko cần copy-paste template vào các trang khác\n",
    "- Tiết kiệm thời gian"
   ]
  },
  {
   "cell_type": "markdown",
   "metadata": {},
   "source": [
    "Tạo trang nền => Đặt tên là `base.html` trong templates folder"
   ]
  },
  {
   "cell_type": "markdown",
   "metadata": {},
   "source": [
    "Mỗi template ta muốn kế thừa `master page`. Ta sẽ sử dụng __extend__ trang base.html"
   ]
  },
  {
   "cell_type": "code",
   "execution_count": null,
   "metadata": {
    "collapsed": true
   },
   "outputs": [],
   "source": [
    "{% load static %}<!DOCTYPE html>\n",
    "<html>\n",
    "  <head>\n",
    "    <meta charset=\"utf-8\">\n",
    "    <title>{% block title %}Django Boards{% endblock %}</title>\n",
    "    <link rel=\"stylesheet\" href=\"{% static 'css/bootstrap.min.css' %}\">\n",
    "  </head>\n",
    "  <body>\n",
    "    <div class=\"container\">\n",
    "      <ol class=\"breadcrumb my-4\">\n",
    "        {% block breadcrumb %}\n",
    "        {% endblock %}\n",
    "      </ol>\n",
    "      {% block content %}\n",
    "      {% endblock %}\n",
    "    </div>\n",
    "  </body>\n",
    "</html>"
   ]
  },
  {
   "cell_type": "markdown",
   "metadata": {},
   "source": [
    "- Các trang con kế thừa trang nền\n",
    "\n",
    "- {% block %} tag là để cho chúng ta sử dụng space tùy chỉnh cho các trang con\n",
    "\n",
    "- {% block title %} Django Boards {% endblock %}\n",
    "\n",
    "Ở đây ta đang đặt default cho các trang con cũng mang tên Django boards. Ta có thể set value lại theo ý mình thích\n",
    "\n"
   ]
  },
  {
   "cell_type": "markdown",
   "metadata": {},
   "source": [
    "__{% extends 'base.html' %}__\n",
    "\n",
    "    Nói với trang template rằng nó sẽ kế thứa trang 'base.html'"
   ]
  },
  {
   "cell_type": "code",
   "execution_count": null,
   "metadata": {
    "collapsed": true
   },
   "outputs": [],
   "source": [
    "# topics.html\n",
    "\n",
    "{% extends 'base.html' %}\n",
    "\n",
    "{% block title %}\n",
    "  {{ board.name }} - {{ block.super }}\n",
    "{% endblock %}\n",
    "\n",
    "{% block breadcrumb %}\n",
    "  <li class=\"breadcrumb-item\"><a href=\"{% url 'home' %}\">Boards</a></li>\n",
    "  <li class=\"breadcrumb-item active\">{{ board.name }}</li>\n",
    "{% endblock %}\n",
    "\n",
    "{% block content %}\n",
    "    <!-- just leaving it empty for now. we will add core here soon. -->\n",
    "{% endblock %}"
   ]
  },
  {
   "cell_type": "markdown",
   "metadata": {},
   "source": [
    "Ta hãy để ý `{% block title %}` sẽ không lấy default là Django boards\n",
    "\n",
    "Nó sẽ xét thêm {{ board.name }} tức name của object `board`. Ngoài ra nếu ta muốn sử dụng lại giá trị default (`Django boards`), ta có thể sử dụng tag `{{ block.super }}`"
   ]
  },
  {
   "cell_type": "markdown",
   "metadata": {},
   "source": [
    "# Font Google"
   ]
  },
  {
   "cell_type": "markdown",
   "metadata": {},
   "source": [
    "Ta có thể đổi fonts đa dạng cho các chữ bằng cách"
   ]
  },
  {
   "cell_type": "markdown",
   "metadata": {},
   "source": [
    "Vao địa chỉ https://fonts.google.com/"
   ]
  },
  {
   "cell_type": "markdown",
   "metadata": {},
   "source": [
    "Kiếm font bạn yêu thích"
   ]
  },
  {
   "cell_type": "markdown",
   "metadata": {},
   "source": [
    "# Forms"
   ]
  },
  {
   "cell_type": "markdown",
   "metadata": {},
   "source": [
    "Forms được sử dụng để giải quyết các input cho các user"
   ]
  },
  {
   "cell_type": "markdown",
   "metadata": {},
   "source": [
    "Quá trình xử lý forms là phức tạp vì nó liên quan nhiều layers của một app"
   ]
  },
  {
   "cell_type": "markdown",
   "metadata": {},
   "source": [
    "Các vấn đề cần quan tâm\n",
    "\n",
    "- proper data type (integer, float, date,...)\n",
    "\n",
    "=> Validate data bất kể business logic của app ntn\n",
    "\n",
    "- clean, sanitize the data để tránh các trường hợp SQL Injection và XSS attacks\n",
    "\n"
   ]
  },
  {
   "cell_type": "markdown",
   "metadata": {},
   "source": [
    "Tin tốt là Django Forms API làm quá trình dễ xử lý hơn. `automating a good chunk of this work`\n",
    "\n",
    "Kết quả cuối sẽ được đảm bảo secure (an toàn hơn)"
   ]
  },
  {
   "cell_type": "markdown",
   "metadata": {},
   "source": [
    "# How to implement a Form"
   ]
  },
  {
   "cell_type": "markdown",
   "metadata": {},
   "source": [
    "__ REMEMBER: underlying details of form processing. __"
   ]
  },
  {
   "cell_type": "code",
   "execution_count": null,
   "metadata": {
    "collapsed": true
   },
   "outputs": [],
   "source": [
    "# templates/new_topic.html\n",
    "{% extends 'base.html' %}\n",
    "\n",
    "{% block title %}Start a New Topic{% endblock %}\n",
    "\n",
    "{% block breadcrumb %}\n",
    "  <li class=\"breadcrumb-item\"><a href=\"{% url 'home' %}\">Boards</a></li>\n",
    "  <li class=\"breadcrumb-item\"><a href=\"{% url 'board_topics' board.pk %}\">{{ board.name }}</a></li>\n",
    "  <li class=\"breadcrumb-item active\">New topic</li>\n",
    "{% endblock %}\n",
    "\n",
    "{% block content %}\n",
    "  <form method=\"post\">\n",
    "    {% csrf_token %}\n",
    "    <div class=\"form-group\">\n",
    "      <label for=\"id_subject\">Subject</label>\n",
    "      <input type=\"text\" class=\"form-control\" id=\"id_subject\" name=\"subject\">\n",
    "    </div>\n",
    "    <div class=\"form-group\">\n",
    "      <label for=\"id_message\">Message</label>\n",
    "      <textarea class=\"form-control\" id=\"id_message\" name=\"message\" rows=\"5\"></textarea>\n",
    "    </div>\n",
    "    <button type=\"submit\" class=\"btn btn-success\">Post</button>\n",
    "  </form>\n",
    "{% endblock %}"
   ]
  },
  {
   "cell_type": "markdown",
   "metadata": {},
   "source": [
    "Request có hai phương thức:\n",
    "\n",
    "- GET: thường sử dụng cho các request không gửi dữ liệu, không truy xuất dũ liệu server...\n",
    "\n",
    "- POST: được sử dụng thường xuyên khi ta gửi dữ liệu lên server"
   ]
  },
  {
   "cell_type": "markdown",
   "metadata": {},
   "source": [
    "__csrf_token__: token bảo mật của Django. Django sẽ bảo vệ tất cả request 'POST' "
   ]
  },
  {
   "cell_type": "markdown",
   "metadata": {},
   "source": [
    "Để truy xuất hai data từ các request.post bên code python"
   ]
  },
  {
   "cell_type": "markdown",
   "metadata": {},
   "source": [
    "Ví dụ: \n",
    "- subject = request.POST['subject']\n",
    "- message = request.POST['message']"
   ]
  },
  {
   "cell_type": "markdown",
   "metadata": {},
   "source": [
    "NOTE: trong code html, khi ta render các objects liên kết với nhau. Ví dụ topic là foreign key của board. Ta có thể truy xuất các objects `topic` của một board như sau trong code html:"
   ]
  },
  {
   "cell_type": "markdown",
   "metadata": {},
   "source": [
    "`{{ board.topics.all }}`"
   ]
  },
  {
   "cell_type": "markdown",
   "metadata": {},
   "source": [
    "Lý do ta sử dụng `board.topics.all` thay vì `board.topics` là vì `board.topics.all` là một Related Manager, giống như là __Model Manager__ => giống như `board.objects` property\n",
    "\n",
    "Nên, thay vì trả tất cả topics liên kết với board, ta phải trả về `board.topics.all()`\n",
    "\n",
    "Nếu mún filter thêm ta hãy dùng `board.topics.filter(subject__contains='...')`"
   ]
  },
  {
   "cell_type": "code",
   "execution_count": null,
   "metadata": {
    "collapsed": true
   },
   "outputs": [],
   "source": [
    "class NewTopicTests(TestCase):\n",
    "    def setUp(self):\n",
    "        Board.objects.create(name='Django', description='Django board.')\n",
    "        User.objects.create_user(username='john', email='john@doe.com', password='123')  # <- included this line here\n",
    "\n",
    "    # ...\n",
    "\n",
    "    def test_csrf(self):\n",
    "        url = reverse('new_topic', kwargs={'pk': 1})\n",
    "        response = self.client.get(url)\n",
    "        self.assertContains(response, 'csrfmiddlewaretoken')\n",
    "\n",
    "    def test_new_topic_valid_post_data(self):\n",
    "        url = reverse('new_topic', kwargs={'pk': 1})\n",
    "        data = {\n",
    "            'subject': 'Test title',\n",
    "            'message': 'Lorem ipsum dolor sit amet'\n",
    "        }\n",
    "        response = self.client.post(url, data)\n",
    "        self.assertTrue(Topic.objects.exists())\n",
    "        self.assertTrue(Post.objects.exists())\n",
    "\n",
    "    def test_new_topic_invalid_post_data(self):\n",
    "        '''\n",
    "        Invalid post data should not redirect\n",
    "        The expected behavior is to show the form again with validation errors\n",
    "        '''\n",
    "        url = reverse('new_topic', kwargs={'pk': 1})\n",
    "        response = self.client.post(url, {})\n",
    "        self.assertEquals(response.status_code, 200)\n",
    "\n",
    "    def test_new_topic_invalid_post_data_empty_fields(self):\n",
    "        '''\n",
    "        Invalid post data should not redirect\n",
    "        The expected behavior is to show the form again with validation errors\n",
    "        '''\n",
    "        url = reverse('new_topic', kwargs={'pk': 1})\n",
    "        data = {\n",
    "            'subject': '',\n",
    "            'message': ''\n",
    "        }\n",
    "        response = self.client.post(url, data)\n",
    "        self.assertEquals(response.status_code, 200)\n",
    "        self.assertFalse(Topic.objects.exists())\n",
    "        self.assertFalse(Post.objects.exists())"
   ]
  },
  {
   "cell_type": "markdown",
   "metadata": {},
   "source": [
    "Ta có thể test tiếp cho việc gửi data \n",
    "\n",
    "`setUp`: tạo ra các objects giả định khi test (test xong sẽ biến mất)\n",
    "\n",
    "`test_csrf`: vì CSRF TOKEN là phần quan trọng trong các requests POST, chúng ta phải tạo HTML chứa các token này\n",
    "\n",
    "`test_new_topic_valid_post_data`: gửi các data thích hợp để check xem Topic và Post model có thể khởi tạo được không\n",
    "\n",
    "`test_new_topic_invalid_post_data`: không gửi data check app\n",
    "\n",
    "`test_new_topic_invalid_post_data_empty_fields`: gửi data rỗng check app"
   ]
  },
  {
   "cell_type": "markdown",
   "metadata": {},
   "source": [
    "# Creating Forms The Right Way"
   ]
  },
  {
   "cell_type": "markdown",
   "metadata": {},
   "source": [
    "- The Forms API is available in the module django.forms"
   ]
  },
  {
   "cell_type": "markdown",
   "metadata": {},
   "source": [
    "Two types of forms: forms.Form and forms.ModelForm"
   ]
  },
  {
   "cell_type": "markdown",
   "metadata": {},
   "source": [
    "- Form class is a general purpose form implementation"
   ]
  },
  {
   "cell_type": "markdown",
   "metadata": {},
   "source": [
    "- A ModelForm is a subclass of Form, and it’s associated with a model class."
   ]
  },
  {
   "cell_type": "code",
   "execution_count": null,
   "metadata": {},
   "outputs": [],
   "source": [
    "from django import forms\n",
    "from .models import Topic\n",
    "\n",
    "class NewTopicForm(forms.ModelForm):\n",
    "    # vị trí để thêm các field tùy chọn hoặc tùy chọn field\n",
    "    # widget = ... để tùy chọn dạng field khi trình bày cho visitor\n",
    "    # max_length = giới hạn kích thước`\n",
    "    # help_text: đoạn text để hướng dẫn visitors\n",
    "    message = forms.CharField(\n",
    "        widget=forms.Textarea(\n",
    "            attrs={'rows': 5, 'placeholder': 'What is on your mind?'}\n",
    "        ),\n",
    "        max_length=4000,\n",
    "        help_text='The max length of the text is 4000.'\n",
    "    )\n",
    "    class Meta:\n",
    "        model = Topic\n",
    "        fields = ['subject', 'message']"
   ]
  },
  {
   "cell_type": "code",
   "execution_count": null,
   "metadata": {
    "collapsed": true
   },
   "outputs": [],
   "source": [
    "# views.py\n",
    "from django.contrib.auth.models import User\n",
    "from django.shortcuts import render, redirect, get_object_or_404\n",
    "from .forms import NewTopicForm\n",
    "from .models import Board, Topic, Post\n",
    "\n",
    "def new_topic(request, pk):\n",
    "    board = get_object_or_404(Board, pk=pk)\n",
    "    user = User.objects.first()  # TODO: get the currently logged in user\n",
    "    if request.method == 'POST':\n",
    "        form = NewTopicForm(request.POST)\n",
    "        if form.is_valid():\n",
    "            topic = form.save(commit=False)\n",
    "            topic.board = board\n",
    "            topic.starter = user\n",
    "            topic.save()\n",
    "            post = Post.objects.create(\n",
    "                message=form.cleaned_data.get('message'),\n",
    "                topic=topic,\n",
    "                created_by=user\n",
    "            )\n",
    "            return redirect('board_topics', pk=board.pk)  # TODO: redirect to the created topic page\n",
    "    else:\n",
    "        form = NewTopicForm()\n",
    "    return render(request, 'new_topic.html', {'board': board, 'form': form})"
   ]
  },
  {
   "cell_type": "markdown",
   "metadata": {},
   "source": [
    "Code html:"
   ]
  },
  {
   "cell_type": "code",
   "execution_count": null,
   "metadata": {
    "collapsed": true
   },
   "outputs": [],
   "source": [
    "{% extends 'base.html' %}\n",
    "\n",
    "{% block title %}Start a New Topic{% endblock %}\n",
    "\n",
    "{% block breadcrumb %}\n",
    "  <li class=\"breadcrumb-item\"><a href=\"{% url 'home' %}\">Boards</a></li>\n",
    "  <li class=\"breadcrumb-item\"><a href=\"{% url 'board_topics' board.pk %}\">{{ board.name }}</a></li>\n",
    "  <li class=\"breadcrumb-item active\">New topic</li>\n",
    "{% endblock %}\n",
    "\n",
    "{% block content %}\n",
    "  <form method=\"post\">\n",
    "    {% csrf_token %}\n",
    "    {{ form.as_p }}\n",
    "    <button type=\"submit\" class=\"btn btn-success\">Post</button>\n",
    "  </form>\n",
    "{% endblock %}"
   ]
  },
  {
   "cell_type": "markdown",
   "metadata": {},
   "source": [
    "`form` có 3 lựa chọn:\n",
    "- form.as_table: sử dụng bảng các tags cho việc format input\n",
    "- form.as_p: \n",
    "- form.as_ul:sử dụng HTML lists của các inputs "
   ]
  },
  {
   "cell_type": "markdown",
   "metadata": {},
   "source": [
    "If you see something like this:  Please fill out this field. when you submit the form, It's your browser doing a pre-validation. To disable it add the novalidate attribute to your form tag: `<form method=\"post\" novalidate>`"
   ]
  },
  {
   "cell_type": "markdown",
   "metadata": {},
   "source": [
    "Another important thing to note is that: there is no such a thing as \"client-side validation.\" JavaScript validation or browser validation is just for usability purpose. And also to reduce the number of requests to the server. Data validation should always be done on the server side, where we have full control over the data."
   ]
  },
  {
   "cell_type": "markdown",
   "metadata": {},
   "source": [
    "# Rendering Bootstrap Forms"
   ]
  },
  {
   "cell_type": "markdown",
   "metadata": {},
   "source": [
    "Install __django-widget-tweaks__\n",
    "\n"
   ]
  },
  {
   "cell_type": "code",
   "execution_count": null,
   "metadata": {
    "collapsed": true
   },
   "outputs": [],
   "source": [
    "pip install django-widget-tweaks"
   ]
  },
  {
   "cell_type": "code",
   "execution_count": null,
   "metadata": {
    "collapsed": true
   },
   "outputs": [],
   "source": [
    "# myproject/settings.py\n",
    "INSTALLED_APPS = [\n",
    "    'django.contrib.admin',\n",
    "    'django.contrib.auth',\n",
    "    'django.contrib.contenttypes',\n",
    "    'django.contrib.sessions',\n",
    "    'django.contrib.messages',\n",
    "    'django.contrib.staticfiles',\n",
    "\n",
    "    'widget_tweaks',\n",
    "\n",
    "    'boards',\n",
    "]"
   ]
  },
  {
   "cell_type": "code",
   "execution_count": null,
   "metadata": {
    "collapsed": true
   },
   "outputs": [],
   "source": [
    "{% extends 'base.html' %}\n",
    "\n",
    "{% load widget_tweaks %}\n",
    "\n",
    "{% block title %}Start a New Topic{% endblock %}\n",
    "\n",
    "{% block breadcrumb %}\n",
    "  <li class=\"breadcrumb-item\"><a href=\"{% url 'home' %}\">Boards</a></li>\n",
    "  <li class=\"breadcrumb-item\"><a href=\"{% url 'board_topics' board.pk %}\">{{ board.name }}</a></li>\n",
    "  <li class=\"breadcrumb-item active\">New topic</li>\n",
    "{% endblock %}\n",
    "\n",
    "{% block content %}\n",
    "  <form method=\"post\" novalidate>\n",
    "    {% csrf_token %}\n",
    "\n",
    "    {% for field in form %}\n",
    "      <div class=\"form-group\">\n",
    "        {{ field.label_tag }}\n",
    "\n",
    "        {% render_field field class=\"form-control\" %}\n",
    "\n",
    "        {% if field.help_text %}\n",
    "          <small class=\"form-text text-muted\">\n",
    "            {{ field.help_text }}\n",
    "          </small>\n",
    "        {% endif %}\n",
    "      </div>\n",
    "    {% endfor %}\n",
    "\n",
    "    <button type=\"submit\" class=\"btn btn-success\">Post</button>\n",
    "  </form>\n",
    "{% endblock %}"
   ]
  },
  {
   "cell_type": "markdown",
   "metadata": {},
   "source": [
    "- First, we load it in the template by using the {% load widget_tweaks %}"
   ]
  },
  {
   "cell_type": "markdown",
   "metadata": {},
   "source": [
    "` {% render_field field class=\"form-control\" %} `"
   ]
  },
  {
   "cell_type": "markdown",
   "metadata": {},
   "source": [
    "render_field thuộc app `django-widget-tweaks`"
   ]
  },
  {
   "cell_type": "markdown",
   "metadata": {},
   "source": [
    "Để sử dụng nó ta hãy pass form `field` như một tham số, và sau đó add `HTML attributes` vào để complement nó"
   ]
  },
  {
   "cell_type": "markdown",
   "metadata": {},
   "source": [
    "Một vài examples khác"
   ]
  },
  {
   "cell_type": "code",
   "execution_count": null,
   "metadata": {
    "collapsed": true
   },
   "outputs": [],
   "source": [
    "{% render_field form.subject class=\"form-control\" %}\n",
    "{% render_field form.message class=\"form-control\" placeholder=form.message.label %}\n",
    "{% render_field field class=\"form-control\" placeholder=\"Write a message!\" %}\n",
    "{% render_field field style=\"font-size: 20px\" %}"
   ]
  },
  {
   "cell_type": "markdown",
   "metadata": {},
   "source": [
    "Ta sử dụng `boostrap 4 validation tags` bằng cách thay đổi thêm tí"
   ]
  },
  {
   "cell_type": "code",
   "execution_count": null,
   "metadata": {
    "collapsed": true
   },
   "outputs": [],
   "source": [
    "#templates/new_topic.html\n",
    "<form method=\"post\" novalidate>\n",
    "  {% csrf_token %}\n",
    "\n",
    "  {% for field in form %}\n",
    "    <div class=\"form-group\">\n",
    "      {{ field.label_tag }}\n",
    "\n",
    "      {% if form.is_bound %}\n",
    "        {% if field.errors %}\n",
    "\n",
    "          {% render_field field class=\"form-control is-invalid\" %}\n",
    "          {% for error in field.errors %}\n",
    "            <div class=\"invalid-feedback\">\n",
    "              {{ error }}\n",
    "            </div>\n",
    "          {% endfor %}\n",
    "\n",
    "        {% else %}\n",
    "          {% render_field field class=\"form-control is-valid\" %}\n",
    "        {% endif %}\n",
    "      {% else %}\n",
    "        {% render_field field class=\"form-control\" %}\n",
    "      {% endif %}\n",
    "\n",
    "      {% if field.help_text %}\n",
    "        <small class=\"form-text text-muted\">\n",
    "          {{ field.help_text }}\n",
    "        </small>\n",
    "      {% endif %}\n",
    "    </div>\n",
    "  {% endfor %}\n",
    "\n",
    "  <button type=\"submit\" class=\"btn btn-success\">Post</button>\n",
    "</form>"
   ]
  },
  {
   "cell_type": "markdown",
   "metadata": {},
   "source": [
    "## Reusable form templates"
   ]
  },
  {
   "cell_type": "markdown",
   "metadata": {},
   "source": [
    "Ngoài ra, bạn có thể thực hiện việc kế thừa form template tạo sẵn"
   ]
  },
  {
   "cell_type": "markdown",
   "metadata": {},
   "source": [
    "Tạo thư mục `includes` nằm trong folder templates"
   ]
  },
  {
   "cell_type": "markdown",
   "metadata": {},
   "source": [
    "Thêm `form.html`"
   ]
  },
  {
   "cell_type": "code",
   "execution_count": null,
   "metadata": {
    "collapsed": true
   },
   "outputs": [],
   "source": [
    "{% load widget_tweaks %}\n",
    "\n",
    "{% for field in form %}\n",
    "  <div class=\"form-group\">\n",
    "    {{ field.label_tag }}\n",
    "\n",
    "    {% if form.is_bound %}\n",
    "      {% if field.errors %}\n",
    "        {% render_field field class=\"form-control is-invalid\" %}\n",
    "        {% for error in field.errors %}\n",
    "          <div class=\"invalid-feedback\">\n",
    "            {{ error }}\n",
    "          </div>\n",
    "        {% endfor %}\n",
    "      {% else %}\n",
    "        {% render_field field class=\"form-control is-valid\" %}\n",
    "      {% endif %}\n",
    "    {% else %}\n",
    "      {% render_field field class=\"form-control\" %}\n",
    "    {% endif %}\n",
    "\n",
    "    {% if field.help_text %}\n",
    "      <small class=\"form-text text-muted\">\n",
    "        {{ field.help_text }}\n",
    "      </small>\n",
    "    {% endif %}\n",
    "  </div>\n",
    "{% endfor %}"
   ]
  },
  {
   "cell_type": "code",
   "execution_count": null,
   "metadata": {
    "collapsed": true
   },
   "outputs": [],
   "source": [
    "#templates/new_topic.html\n",
    "{% extends 'base.html' %}\n",
    "\n",
    "{% block title %}Start a New Topic{% endblock %}\n",
    "\n",
    "{% block breadcrumb %}\n",
    "  <li class=\"breadcrumb-item\"><a href=\"{% url 'home' %}\">Boards</a></li>\n",
    "  <li class=\"breadcrumb-item\"><a href=\"{% url 'board_topics' board.pk %}\">{{ board.name }}</a></li>\n",
    "  <li class=\"breadcrumb-item active\">New topic</li>\n",
    "{% endblock %}\n",
    "\n",
    "{% block content %}\n",
    "  <form method=\"post\" novalidate>\n",
    "    {% csrf_token %}\n",
    "    {% include 'includes/form.html' %}\n",
    "    <button type=\"submit\" class=\"btn btn-success\">Post</button>\n",
    "  </form>\n",
    "{% endblock %}"
   ]
  },
  {
   "cell_type": "markdown",
   "metadata": {},
   "source": [
    "Tag `{% include %}` được sử dụng để include HTML templates tạo sẵn cho form"
   ]
  },
  {
   "cell_type": "markdown",
   "metadata": {},
   "source": [
    "The next form we implement, we can simply use `{% include 'includes/form.html' %}` to render it."
   ]
  },
  {
   "cell_type": "markdown",
   "metadata": {},
   "source": [
    "Cuối cùng, ta có thể tạo test cho các form"
   ]
  },
  {
   "cell_type": "code",
   "execution_count": null,
   "metadata": {
    "collapsed": true
   },
   "outputs": [],
   "source": [
    "from .forms import NewTopicForm\n",
    "\n",
    "class NewTopicTests(TestCase):\n",
    "    # ... other tests\n",
    "\n",
    "    def test_contains_form(self):  # <- new test\n",
    "        url = reverse('new_topic', kwargs={'pk': 1})\n",
    "        response = self.client.get(url)\n",
    "        form = response.context.get('form')\n",
    "        self.assertIsInstance(form, NewTopicForm)\n",
    "\n",
    "    def test_new_topic_invalid_post_data(self):  # <- updated this one\n",
    "        '''\n",
    "        Invalid post data should not redirect\n",
    "        The expected behavior is to show the form again with validation errors\n",
    "        '''\n",
    "        url = reverse('new_topic', kwargs={'pk': 1})\n",
    "        response = self.client.post(url, {})\n",
    "        form = response.context.get('form')\n",
    "        self.assertEquals(response.status_code, 200)\n",
    "        self.assertTrue(form.errors)"
   ]
  },
  {
   "cell_type": "markdown",
   "metadata": {},
   "source": [
    "Ta có thể sử dụng `assertIsIntansce` method check form được tạo"
   ]
  },
  {
   "cell_type": "markdown",
   "metadata": {},
   "source": [
    "`self.assertTrue(form.errors)`: để đảm bảo form show ra errors khi data bị invalid"
   ]
  },
  {
   "cell_type": "code",
   "execution_count": null,
   "metadata": {
    "collapsed": true
   },
   "outputs": [],
   "source": []
  }
 ],
 "metadata": {
  "kernelspec": {
   "display_name": "Python 3",
   "language": "python",
   "name": "python3"
  },
  "language_info": {
   "codemirror_mode": {
    "name": "ipython",
    "version": 3
   },
   "file_extension": ".py",
   "mimetype": "text/x-python",
   "name": "python",
   "nbconvert_exporter": "python",
   "pygments_lexer": "ipython3",
   "version": "3.6.7"
  }
 },
 "nbformat": 4,
 "nbformat_minor": 2
}
