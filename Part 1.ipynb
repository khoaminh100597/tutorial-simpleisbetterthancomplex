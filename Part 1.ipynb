{
 "cells": [
  {
   "cell_type": "markdown",
   "metadata": {},
   "source": [
    "# Starting a New Project"
   ]
  },
  {
   "cell_type": "code",
   "execution_count": null,
   "metadata": {
    "collapsed": true
   },
   "outputs": [],
   "source": [
    "# Create a django project\n",
    "django-admin startproject myproject"
   ]
  },
  {
   "cell_type": "markdown",
   "metadata": {},
   "source": [
    "`manage.py`: một shortcut sử dụng django-admin command line hữu dụng. Nó thường được dùng để run các management commands liên quan đến project. Ta sẽ sử dụng nó để run development server, run tests, tạo migrations và nhiều hơn nữa.\n",
    "\n",
    "`__init__.py`: file empty này nói Python rằng folder của project này là __một Python package__.\n",
    "\n",
    "`settings.py`: file này chứa toàn bộ cấu hình (configuration) của project\n",
    "\n",
    "`wsgi.py`: file này là một __simple gateway interface__ được dùng để deploy trang web"
   ]
  },
  {
   "cell_type": "code",
   "execution_count": null,
   "metadata": {
    "collapsed": true
   },
   "outputs": [],
   "source": [
    "# Run server\n",
    "python manage.py runserver"
   ]
  },
  {
   "cell_type": "markdown",
   "metadata": {},
   "source": [
    "__ Hit Control + C to stop the development server.__"
   ]
  },
  {
   "cell_type": "markdown",
   "metadata": {},
   "source": [
    "# Django Apps"
   ]
  },
  {
   "cell_type": "markdown",
   "metadata": {},
   "source": [
    "__app__: là một web application, bao gồm một set các models (database tables), views, templates, tests,...\n",
    "\n",
    "__project__: là một collection của các cấu hình và apps. MỘt project có thể bao gồm nhiều apps, hoặc một single app"
   ]
  },
  {
   "cell_type": "markdown",
   "metadata": {},
   "source": [
    "`It’s important to note that you can’t run a Django app without a project. `"
   ]
  },
  {
   "cell_type": "code",
   "execution_count": null,
   "metadata": {
    "collapsed": true
   },
   "outputs": [],
   "source": [
    "# Create a django app\n",
    "django-admin startapp name_of_app"
   ]
  },
  {
   "cell_type": "markdown",
   "metadata": {},
   "source": [
    "__migrations/__: folder chứa một vài files để đi theo các sự thay đổi bạn tạo trong __models.py__, để có thể giữ database và __models.py__ đồng bộ hóa\n",
    "\n",
    "__admin.py__: một file cấu hình cho một built-in Django app gọi là __Django Admin__\n",
    "\n",
    "__apps.py__: file cấu hình app của bản thân nó\n",
    "\n",
    "__models.py__: đây là nơi ta định nghĩa entities của Web application. Các models sẽ tự động chuyển qua database tables bằng Django\n",
    "\n",
    "__test.py__: file dùng để viết các unit tests cho một app\n",
    "\n",
    "__views.py__: file mà chúng ta sẽ xử lý việc __request/response__ của Web app"
   ]
  },
  {
   "cell_type": "markdown",
   "metadata": {},
   "source": [
    "`Note`: Tạo xong web app, phải cấu hình cho project sử dụng nó"
   ]
  },
  {
   "cell_type": "markdown",
   "metadata": {},
   "source": [
    "Vào __settings.py__ tìm `INSTALLES_APPS`"
   ]
  },
  {
   "cell_type": "code",
   "execution_count": null,
   "metadata": {
    "collapsed": true
   },
   "outputs": [],
   "source": [
    "INSTALLED_APPS = [\n",
    "    'django.contrib.admin',\n",
    "    'django.contrib.auth',\n",
    "    'django.contrib.contenttypes',\n",
    "    'django.contrib.sessions',\n",
    "    'django.contrib.messages',\n",
    "    'django.contrib.staticfiles',\n",
    "]"
   ]
  },
  {
   "cell_type": "markdown",
   "metadata": {},
   "source": [
    "Django chứa sẵn 6 built-in apps installed. Chúng chứa các common funstionalitites mà Web app cần như\n",
    "\n",
    "`django.contrib.admin`: Admin app\n",
    "\n",
    "`django.contrib.auth`: authentication\n",
    "\n",
    "`django.contrib.contenttypes`: track all of the models installed in Django project, providing a high-level, generic interface for working with your models\n",
    "\n",
    "`django.contrib.sessions`: The session framework lets you store and retrieve arbitray data on a per-site-visitor basis. It stores data on the server side and abstracts the sending and receiving of cookies.\n",
    "\n",
    "`django.contrib.messages`: quite commonly in web applications, you need to display a one-time notification message (also known as 'flash message') to use after processing a form or some other types of user input\n",
    "\n",
    "`django.contrib.staticfiles`: collects static files from each of your applications (and any other place you specify) into a single location that can easily be server in production"
   ]
  },
  {
   "cell_type": "markdown",
   "metadata": {},
   "source": [
    "Có 2 loại apps: \n",
    "\n",
    "+ Internal apps: là các apps nằm trong project. Ta tạo thêm bằng cách `python3 manage.py startapp`... Đây là những singe app nằm trong\n",
    "\n",
    "+ External apps: là các apps nằm ngoài project. Những app nằm ngoài project, có thể lấy từ các package riêng của python hoặc có sẵn trong django như 6 cái trên"
   ]
  },
  {
   "cell_type": "markdown",
   "metadata": {},
   "source": [
    "# Hello world\n"
   ]
  },
  {
   "cell_type": "code",
   "execution_count": null,
   "metadata": {
    "collapsed": true
   },
   "outputs": [],
   "source": [
    "# views.py\n",
    "from django.shortcuts import render\n",
    "from django.http import HttpResponse\n",
    "# Create your views here.\n",
    "def HelloWorld(request):\n",
    "    return HttpResponse('Hello World')"
   ]
  },
  {
   "cell_type": "code",
   "execution_count": null,
   "metadata": {
    "collapsed": true
   },
   "outputs": [],
   "source": [
    "# urls.py \n",
    "from django.contrib import admin\n",
    "from django.urls import path\n",
    "from boards import views\n",
    "\n",
    "urlpatterns = [\n",
    "    path('admin/', admin.site.urls),\n",
    "    path('', views.HelloWorld, name='helloworld'),\n",
    "]"
   ]
  },
  {
   "cell_type": "markdown",
   "metadata": {},
   "source": [
    "Views là các functions của Python nhận `HttpRequest` object và trả về một `HttpResponse` object. \n",
    "\n",
    "Nhận `request` như một parameter và trả về một response như một kết quả\n",
    "\n",
    "`Cách làm việc mà bạn cấn nhớ trong đầu`"
   ]
  },
  {
   "cell_type": "code",
   "execution_count": null,
   "metadata": {
    "collapsed": true
   },
   "outputs": [],
   "source": []
  }
 ],
 "metadata": {
  "kernelspec": {
   "display_name": "Python 3",
   "language": "python",
   "name": "python3"
  },
  "language_info": {
   "codemirror_mode": {
    "name": "ipython",
    "version": 3
   },
   "file_extension": ".py",
   "mimetype": "text/x-python",
   "name": "python",
   "nbconvert_exporter": "python",
   "pygments_lexer": "ipython3",
   "version": "3.6.7"
  }
 },
 "nbformat": 4,
 "nbformat_minor": 2
}
