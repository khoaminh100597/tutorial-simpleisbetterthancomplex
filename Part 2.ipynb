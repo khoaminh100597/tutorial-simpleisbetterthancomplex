{
 "cells": [
  {
   "cell_type": "markdown",
   "metadata": {},
   "source": [
    "# Vẽ UML\n"
   ]
  },
  {
   "cell_type": "markdown",
   "metadata": {},
   "source": [
    "- Xác định các entities\n",
    "- Xác định attibute của các entities\n",
    "- Xác đĩnh các relations giữa các entities\n",
    "\n",
    "http://staruml.io/"
   ]
  },
  {
   "cell_type": "markdown",
   "metadata": {},
   "source": [
    "# Vẽ wireframe"
   ]
  },
  {
   "cell_type": "markdown",
   "metadata": {},
   "source": [
    "https://www.draw.io/"
   ]
  },
  {
   "cell_type": "markdown",
   "metadata": {},
   "source": [
    "# Models"
   ]
  },
  {
   "cell_type": "code",
   "execution_count": null,
   "metadata": {
    "collapsed": true
   },
   "outputs": [],
   "source": [
    "# Models: Board, Topic, Post\n",
    "# User model is already defined inside a builtin-app named auth\n",
    "from django.db import models\n",
    "from django.contrib.auth.models import User\n",
    "\n",
    "\n",
    "class Board(models.Model):\n",
    "    name = models.CharField(max_length=30, unique=True)\n",
    "    description = models.CharField(max_length=100)\n",
    "\n",
    "\n",
    "class Topic(models.Model):\n",
    "    subject = models.CharField(max_length=255)\n",
    "    last_updated = models.DateTimeField(auto_now_add=True)\n",
    "    board = models.ForeignKey(Board, related_name='topics')\n",
    "    starter = models.ForeignKey(User, related_name='topics')\n",
    "\n",
    "\n",
    "class Post(models.Model):\n",
    "    message = models.TextField(max_length=4000)\n",
    "    topic = models.ForeignKey(Topic, related_name='posts')\n",
    "    created_at = models.DateTimeField(auto_now_add=True)\n",
    "    updated_at = models.DateTimeField(null=True)\n",
    "    created_by = models.ForeignKey(User, related_name='posts')\n",
    "    updated_by = models.ForeignKey(User, null=True, related_name='+')"
   ]
  },
  {
   "cell_type": "markdown",
   "metadata": {},
   "source": [
    "Django tự động tạo reverese relationships\n",
    "\n",
    "`related_name`: là một optional. Nếu ta không set name cho nó, Django sẽ tự động tạo reverse name: `(class_name)_set`\n",
    "\n",
    "Ví dụ trong `Board` model, thì các `Topic` sẽ được gọi dưới dạng `topic_set` property\n",
    "\n",
    "Thay vì vậy, ta renamed nó lại thành `topics` để làm tự nhiên hơn\n",
    "\n",
    "Trong `Post` model, `updated_by` field sets bằng `related_name = '+'`. Điều này dẫn đến Django không cần reverse relationships, nó sẽ ignore đi"
   ]
  },
  {
   "cell_type": "markdown",
   "metadata": {},
   "source": [
    "# Experimenting with the Models API"
   ]
  },
  {
   "cell_type": "code",
   "execution_count": null,
   "metadata": {
    "collapsed": true
   },
   "outputs": [],
   "source": [
    "# interactive shell\n",
    "python manage.py shell\n"
   ]
  },
  {
   "cell_type": "code",
   "execution_count": null,
   "metadata": {
    "collapsed": true
   },
   "outputs": [],
   "source": [
    "# Create object by using save()\n",
    "from boards.models import Board\n",
    "board = Board(name='Django', description='This is a board about Django.')\n",
    "board.save()"
   ]
  },
  {
   "cell_type": "markdown",
   "metadata": {},
   "source": [
    "Save method sẽ giúp ta create và update lại các objects."
   ]
  },
  {
   "cell_type": "code",
   "execution_count": null,
   "metadata": {
    "collapsed": true
   },
   "outputs": [],
   "source": [
    "# Create directly object\n",
    "board = Board.objects.create(name='Python', description='General discussion about Python.')\n"
   ]
  },
  {
   "cell_type": "markdown",
   "metadata": {},
   "source": [
    "# Summary of Models Operations"
   ]
  },
  {
   "cell_type": "markdown",
   "metadata": {},
   "source": [
    "Create an object without saving\n",
    "\n",
    "`board = Board()`\n",
    "\n",
    "Save an object (create or update)\n",
    "\n",
    "`board.save()`\n",
    "\n",
    "Create and save an object in the database\n",
    "\n",
    "`Board.objects.create(name='...', \n",
    "description='...')`\n",
    "\n",
    "List all objects\n",
    "\n",
    "`Board.objects.all()`\n",
    "\n",
    "Get a single object, identified by a field\n",
    "\n",
    "`Board.objects.get(id=1)`"
   ]
  },
  {
   "cell_type": "markdown",
   "metadata": {},
   "source": [
    "# Testing the Homepage"
   ]
  },
  {
   "cell_type": "code",
   "execution_count": null,
   "metadata": {
    "collapsed": true
   },
   "outputs": [],
   "source": [
    "from django.core.urlresolvers import reverse\n",
    "from django.test import TestCase\n",
    "\n",
    "class HomeTests(TestCase):\n",
    "    def test_home_view_status_code(self):\n",
    "        url = reverse('home')\n",
    "        response = self.client.get(url)\n",
    "        self.assertEquals(response.status_code, 200)"
   ]
  },
  {
   "cell_type": "markdown",
   "metadata": {},
   "source": [
    "- Simple Test case nhưng useful\n",
    "\n",
    "- Test trên dùng kiểm tra status code của response\n",
    "\n",
    "- Status code 200 nghĩa là `success`\n",
    "\n",
    "- Status code nếu hiện 500 tất là `Internal Server Error`"
   ]
  },
  {
   "cell_type": "code",
   "execution_count": null,
   "metadata": {
    "collapsed": true
   },
   "outputs": [],
   "source": [
    "from django.core.urlresolvers import reverse\n",
    "from django.urls import resolve\n",
    "from django.test import TestCase\n",
    "from .views import home\n",
    "\n",
    "class HomeTests(TestCase):\n",
    "    def test_home_view_status_code(self):\n",
    "        url = reverse('home')\n",
    "        response = self.client.get(url)\n",
    "        self.assertEquals(response.status_code, 200)\n",
    "\n",
    "    def test_home_url_resolves_home_view(self):\n",
    "        view = resolve('/')\n",
    "        self.assertEquals(view.func, home)"
   ]
  },
  {
   "cell_type": "markdown",
   "metadata": {},
   "source": [
    "Trong test thứ hai, ta thêm vào `resolve` function\n",
    "\n",
    "- Django dùng nó để match một URL được requested nằm trong list các URLs listed trong `urls.py`\n",
    "\n",
    "- Test này đảm bảo URL `/` sẽ trả về `views.home`"
   ]
  },
  {
   "cell_type": "code",
   "execution_count": null,
   "metadata": {
    "collapsed": true
   },
   "outputs": [],
   "source": [
    "# Running test\n",
    "python manage.py test\n",
    "# Running test if you want to see verbose\n",
    "python manage.py test --verbosity=2"
   ]
  },
  {
   "cell_type": "markdown",
   "metadata": {},
   "source": [
    "Verbosity determines the amount of notification and debug information that will be printed to the console; 0 is no output, 1 is normal output, and 2 is verbose output."
   ]
  },
  {
   "cell_type": "markdown",
   "metadata": {
    "collapsed": true
   },
   "source": [
    "# Using static files (javascript, css, jQuery, ...)"
   ]
  },
  {
   "cell_type": "markdown",
   "metadata": {},
   "source": [
    "myproject/\n",
    " |-- myproject/\n",
    " |    |-- boards/\n",
    " |    |-- myproject/\n",
    " |    |-- templates/\n",
    " |    |-- static/\n",
    " |    |    +-- css/\n",
    " |    |         +-- bootstrap.min.css    <-- here\n",
    " |    +-- manage.py\n",
    " +-- venv/\n"
   ]
  },
  {
   "cell_type": "markdown",
   "metadata": {},
   "source": [
    "Ta thêm vào statics.py như sau:"
   ]
  },
  {
   "cell_type": "code",
   "execution_count": null,
   "metadata": {
    "collapsed": true
   },
   "outputs": [],
   "source": [
    "STATIC_URL = '/static/'\n",
    "\n",
    "STATICFILES_DIRS = [\n",
    "    os.path.join(BASE_DIR, 'static'),\n",
    "]"
   ]
  },
  {
   "cell_type": "markdown",
   "metadata": {},
   "source": [
    "Same thing as the TEMPLATES directory, remember"
   ]
  },
  {
   "cell_type": "code",
   "execution_count": null,
   "metadata": {
    "collapsed": true
   },
   "outputs": [],
   "source": [
    "# templates/home.html\n",
    "{% load static %}<!DOCTYPE html>\n",
    "<html>\n",
    "  <head>\n",
    "    <meta charset=\"utf-8\">\n",
    "    <title>Boards</title>\n",
    "    <link rel=\"stylesheet\" href=\"{% static 'css/bootstrap.min.css' %}\">\n",
    "  </head>\n",
    "  <body>\n",
    "    <!-- body suppressed for brevity ... -->\n",
    "  </body>\n",
    "</html>"
   ]
  },
  {
   "cell_type": "markdown",
   "metadata": {},
   "source": [
    "Ghi nhớ: Ta luôn để `{% load static %}` lên đầu template"
   ]
  },
  {
   "cell_type": "markdown",
   "metadata": {},
   "source": [
    "Template tag `{% static %}` được sử dụng bao gồm URL nơi mà chứa các resource lives"
   ]
  },
  {
   "cell_type": "markdown",
   "metadata": {},
   "source": [
    "Trong quá trình debug, `{% static 'css/bootstrap.min.css' %}` sẽ trả về __/static/css/bootstrap.min.css__ tương đương __http://127.0.0.1:8000/static/css/bootstrap.min.css__"
   ]
  },
  {
   "cell_type": "markdown",
   "metadata": {},
   "source": [
    "Trong thực tế, deploy trang web lên server, cấu hình trong settings.py bao gồm URL final.\n",
    "\n",
    "Ví dụ, hosted của các static files của bạn là __https://static.examples.com/__ thì `{% static 'css/bootstrap.min.css' %}` trả về __https://static.example.com/css/bootstrap.min.css__"
   ]
  },
  {
   "cell_type": "markdown",
   "metadata": {},
   "source": [
    "# Using Django Admin"
   ]
  },
  {
   "cell_type": "markdown",
   "metadata": {},
   "source": [
    "Let’s start by creating an administrator account:"
   ]
  },
  {
   "cell_type": "code",
   "execution_count": null,
   "metadata": {
    "collapsed": true
   },
   "outputs": [],
   "source": [
    "python3 manage.py createsuperuser"
   ]
  },
  {
   "cell_type": "markdown",
   "metadata": {},
   "source": [
    "Follow the instructions:"
   ]
  },
  {
   "cell_type": "code",
   "execution_count": null,
   "metadata": {
    "collapsed": true
   },
   "outputs": [],
   "source": [
    "Username (leave blank to use 'vitorfs'): admin\n",
    "Email address: admin@example.com\n",
    "Password:\n",
    "Password (again):\n",
    "Superuser created successfully."
   ]
  },
  {
   "cell_type": "markdown",
   "metadata": {},
   "source": [
    "Muốn quản lý các model, sử dụng `django.contrib.admin`"
   ]
  },
  {
   "cell_type": "code",
   "execution_count": null,
   "metadata": {
    "collapsed": true
   },
   "outputs": [],
   "source": [
    "# boards/admin.py\n",
    "from django.contrib import admin\n",
    "from .models import Board\n",
    "\n",
    "admin.site.register(Board)"
   ]
  },
  {
   "cell_type": "code",
   "execution_count": null,
   "metadata": {
    "collapsed": true
   },
   "outputs": [],
   "source": []
  }
 ],
 "metadata": {
  "kernelspec": {
   "display_name": "Python 3",
   "language": "python",
   "name": "python3"
  },
  "language_info": {
   "codemirror_mode": {
    "name": "ipython",
    "version": 3
   },
   "file_extension": ".py",
   "mimetype": "text/x-python",
   "name": "python",
   "nbconvert_exporter": "python",
   "pygments_lexer": "ipython3",
   "version": "3.6.7"
  }
 },
 "nbformat": 4,
 "nbformat_minor": 2
}
